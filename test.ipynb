{
 "cells": [
  {
   "cell_type": "markdown",
   "id": "67d1accc",
   "metadata": {},
   "source": [
    "# Testing Document\n",
    "For the purpose of debugging daily challenge or coursework code for when the limited error messages in the freeCodeCamp environment are insufficient."
   ]
  },
  {
   "cell_type": "code",
   "execution_count": 1,
   "id": "82e11f2f",
   "metadata": {},
   "outputs": [],
   "source": [
    "def adjust_thermostat(current_f, target_c):\n",
    "    target_f = (target_c * 1.8) + 32\n",
    "    action = ''\n",
    "    if current_f < target_f:\n",
    "        action = f'Heat: {(target_f - current_f):.1f} degrees Fahrenheit'\n",
    "    elif current_f > target_f:\n",
    "        action = f'Cool: {(current_f - target_f):.1f} degrees Fahrenheit'\n",
    "    else:\n",
    "        action = 'Hold'\n",
    "    return action"
   ]
  },
  {
   "cell_type": "code",
   "execution_count": 2,
   "id": "b7aaa85b",
   "metadata": {},
   "outputs": [
    {
     "data": {
      "text/plain": [
       "'Cool: 7.6 degrees Fahrenheit'"
      ]
     },
     "execution_count": 2,
     "metadata": {},
     "output_type": "execute_result"
    }
   ],
   "source": [
    "adjust_thermostat(72, 18)"
   ]
  }
 ],
 "metadata": {
  "kernelspec": {
   "display_name": "Python 3",
   "language": "python",
   "name": "python3"
  },
  "language_info": {
   "codemirror_mode": {
    "name": "ipython",
    "version": 3
   },
   "file_extension": ".py",
   "mimetype": "text/x-python",
   "name": "python",
   "nbconvert_exporter": "python",
   "pygments_lexer": "ipython3",
   "version": "3.13.2"
  }
 },
 "nbformat": 4,
 "nbformat_minor": 5
}
