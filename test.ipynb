{
 "cells": [
  {
   "cell_type": "markdown",
   "id": "67d1accc",
   "metadata": {},
   "source": [
    "# Testing Document\n",
    "For the purpose of debugging daily challenge or coursework code for when the limited error messages in the freeCodeCamp environment are insufficient."
   ]
  },
  {
   "cell_type": "code",
   "execution_count": null,
   "id": "82e11f2f",
   "metadata": {},
   "outputs": [],
   "source": [
    "def validate(email):\n",
    "    valid = False\n",
    "\n",
    "    if email.count('@') == 1 and email.count('..') == 0:\n",
    "        split_ind = email.index('@')\n",
    "        local = email[0:split_ind]\n",
    "        domain = email[(split_ind+1):]\n",
    "        \n",
    "        if local[0] == '.' or local[-1] == '.':\n",
    "            return valid\n",
    "        \n",
    "        final_dot = domain.rfind('.')\n",
    "\n",
    "        if final_dot != -1:\n",
    "            com = domain[final_dot+1:]\n",
    "\n",
    "            if len(com) >= 2 and com.isalpha():\n",
    "                valid = True\n",
    "                \n",
    "    return valid"
   ]
  },
  {
   "cell_type": "code",
   "execution_count": 2,
   "id": "b7aaa85b",
   "metadata": {},
   "outputs": [
    {
     "data": {
      "text/plain": [
       "True"
      ]
     },
     "execution_count": 2,
     "metadata": {},
     "output_type": "execute_result"
    }
   ],
   "source": [
    "validate(\"example@test.c0\")"
   ]
  }
 ],
 "metadata": {
  "kernelspec": {
   "display_name": "Python 3",
   "language": "python",
   "name": "python3"
  },
  "language_info": {
   "codemirror_mode": {
    "name": "ipython",
    "version": 3
   },
   "file_extension": ".py",
   "mimetype": "text/x-python",
   "name": "python",
   "nbconvert_exporter": "python",
   "pygments_lexer": "ipython3",
   "version": "3.13.2"
  }
 },
 "nbformat": 4,
 "nbformat_minor": 5
}
