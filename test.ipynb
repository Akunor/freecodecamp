{
 "cells": [
  {
   "cell_type": "markdown",
   "id": "67d1accc",
   "metadata": {},
   "source": [
    "# Testing Document\n",
    "For the purpose of debugging daily challenge or coursework code for when the limited error messages in the freeCodeCamp environment are insufficient."
   ]
  },
  {
   "cell_type": "code",
   "execution_count": 40,
   "id": "82e11f2f",
   "metadata": {},
   "outputs": [],
   "source": [
    "def wise_speak(sentence):\n",
    "    sentence_list = sentence.lower().split()\n",
    "    print(sentence_list)\n",
    "    wise_words = ['have', 'must', 'are', 'will', 'can']\n",
    "    wise_list = []\n",
    "    ending = sentence_list[-1][-1]\n",
    "\n",
    "    for i, word in enumerate(sentence_list):\n",
    "        print(word)\n",
    "        if word in wise_words:\n",
    "            sentence_list[-1] = sentence_list[-1][:-1] + ','\n",
    "            wise_list = sentence_list[i+1:]\n",
    "            for word in sentence_list[:i+1]:\n",
    "                wise_list.append(word)\n",
    "            break\n",
    "    \n",
    "    wise_list[0] = wise_list[0].capitalize()\n",
    "    wise_list[-1] = wise_list[-1] + ending\n",
    "    wise_sentence = ' '.join(wise_list)\n",
    "    return wise_sentence"
   ]
  },
  {
   "cell_type": "code",
   "execution_count": 42,
   "id": "b7aaa85b",
   "metadata": {},
   "outputs": [
    {
     "name": "stdout",
     "output_type": "stream",
     "text": [
      "['you', 'must', 'speak', 'wisely.']\n",
      "you\n",
      "must\n"
     ]
    },
    {
     "data": {
      "text/plain": [
       "'Speak wisely, you must.'"
      ]
     },
     "execution_count": 42,
     "metadata": {},
     "output_type": "execute_result"
    }
   ],
   "source": [
    "wise_speak(\"You must speak wisely.\")"
   ]
  }
 ],
 "metadata": {
  "kernelspec": {
   "display_name": "Python 3",
   "language": "python",
   "name": "python3"
  },
  "language_info": {
   "codemirror_mode": {
    "name": "ipython",
    "version": 3
   },
   "file_extension": ".py",
   "mimetype": "text/x-python",
   "name": "python",
   "nbconvert_exporter": "python",
   "pygments_lexer": "ipython3",
   "version": "3.13.2"
  }
 },
 "nbformat": 4,
 "nbformat_minor": 5
}
