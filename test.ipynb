{
 "cells": [
  {
   "cell_type": "markdown",
   "id": "67d1accc",
   "metadata": {},
   "source": [
    "# Testing Document\n",
    "For the purpose of debugging daily challenge or coursework code for when the limited error messages in the freeCodeCamp environment are insufficient."
   ]
  },
  {
   "cell_type": "code",
   "execution_count": null,
   "id": "82e11f2f",
   "metadata": {},
   "outputs": [],
   "source": [
    "def dive(map, coordinates):\n",
    "    found = 0\n",
    "    unfound = 0\n",
    "\n",
    "    for i in map:\n",
    "        for j in i:\n",
    "            if j == 'O':\n",
    "                unfound += 1\n",
    "            elif j == 'X':\n",
    "                found += 1\n",
    "\n",
    "    \n",
    "    dive = map[coordinates[0]][coordinates[1]]\n",
    "    \n",
    "    if dive == '-':\n",
    "        result = 'Empty'\n",
    "    elif dive == 'X':\n",
    "        result = 'Found'\n",
    "    elif dive == 'O':\n",
    "        if unfound == 1:\n",
    "            result = 'Recovered'\n",
    "        else:\n",
    "            result = 'Found'\n",
    "    return result"
   ]
  },
  {
   "cell_type": "code",
   "execution_count": 6,
   "id": "b7aaa85b",
   "metadata": {},
   "outputs": [
    {
     "name": "stdout",
     "output_type": "stream",
     "text": [
      "O\n"
     ]
    },
    {
     "data": {
      "text/plain": [
       "'Recovered'"
      ]
     },
     "execution_count": 6,
     "metadata": {},
     "output_type": "execute_result"
    }
   ],
   "source": [
    "dive([[ \"-\", \"X\"], [ \"-\", \"X\"], [ \"-\", \"O\"]], [2, 1])"
   ]
  },
  {
   "cell_type": "code",
   "execution_count": 4,
   "id": "95c01813",
   "metadata": {},
   "outputs": [
    {
     "name": "stdout",
     "output_type": "stream",
     "text": [
      "title\n"
     ]
    }
   ],
   "source": [
    "test_object = {'item1': 'title', 'item2': 10}\n",
    "\n",
    "print(test_object['item1'])"
   ]
  },
  {
   "cell_type": "code",
   "execution_count": null,
   "id": "b695bcf6",
   "metadata": {},
   "outputs": [],
   "source": []
  }
 ],
 "metadata": {
  "kernelspec": {
   "display_name": "Python 3",
   "language": "python",
   "name": "python3"
  },
  "language_info": {
   "codemirror_mode": {
    "name": "ipython",
    "version": 3
   },
   "file_extension": ".py",
   "mimetype": "text/x-python",
   "name": "python",
   "nbconvert_exporter": "python",
   "pygments_lexer": "ipython3",
   "version": "3.13.2"
  }
 },
 "nbformat": 4,
 "nbformat_minor": 5
}
