{
 "cells": [
  {
   "cell_type": "markdown",
   "id": "67d1accc",
   "metadata": {},
   "source": [
    "# Testing Document\n",
    "For the purpose of debugging daily challenge or coursework code for when the limited error messages in the freeCodeCamp environment are insufficient."
   ]
  },
  {
   "cell_type": "code",
   "execution_count": 9,
   "id": "82e11f2f",
   "metadata": {},
   "outputs": [],
   "source": [
    "def sock_pairs(pairs, cycles):\n",
    "    i = 1\n",
    "    socks = 2 * pairs\n",
    "    missing_socks = 0\n",
    "    print(f'Initial Socks: {socks}')\n",
    "\n",
    "    while i <= cycles:\n",
    "\n",
    "        if i >= 2 and i % 2 == 0:\n",
    "            socks = max(0, socks - 1)\n",
    "            missing_socks += 1\n",
    "        if missing_socks > 0 and i >= 3 and i % 3 == 0:\n",
    "            socks += 1\n",
    "            missing_socks -= 1\n",
    "        if i >= 5 and i % 5 == 0:\n",
    "            socks = max(0, socks - 1)\n",
    "        if i >= 10 and i % 10 == 0:\n",
    "            socks += 2\n",
    "        print(f'Socks after Cycle {i}: {socks}')\n",
    "        i += 1\n",
    "\n",
    "    remaining_pairs = socks // 2\n",
    "\n",
    "    return remaining_pairs"
   ]
  },
  {
   "cell_type": "code",
   "execution_count": 10,
   "id": "b7aaa85b",
   "metadata": {},
   "outputs": [
    {
     "name": "stdout",
     "output_type": "stream",
     "text": [
      "Initial Socks: 2\n",
      "Socks after Cycle 1: 2\n",
      "Socks after Cycle 2: 1\n",
      "Socks after Cycle 3: 2\n",
      "Socks after Cycle 4: 1\n",
      "Socks after Cycle 5: 0\n",
      "Socks after Cycle 6: 1\n",
      "Socks after Cycle 7: 1\n",
      "Socks after Cycle 8: 0\n"
     ]
    },
    {
     "data": {
      "text/plain": [
       "0"
      ]
     },
     "execution_count": 10,
     "metadata": {},
     "output_type": "execute_result"
    }
   ],
   "source": [
    "sock_pairs(1, 8)"
   ]
  }
 ],
 "metadata": {
  "kernelspec": {
   "display_name": "Python 3",
   "language": "python",
   "name": "python3"
  },
  "language_info": {
   "codemirror_mode": {
    "name": "ipython",
    "version": 3
   },
   "file_extension": ".py",
   "mimetype": "text/x-python",
   "name": "python",
   "nbconvert_exporter": "python",
   "pygments_lexer": "ipython3",
   "version": "3.13.2"
  }
 },
 "nbformat": 4,
 "nbformat_minor": 5
}
