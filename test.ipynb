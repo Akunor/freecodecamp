{
 "cells": [
  {
   "cell_type": "markdown",
   "id": "67d1accc",
   "metadata": {},
   "source": [
    "# Testing Document\n",
    "For the purpose of debugging daily challenge or coursework code for when the limited error messages in the freeCodeCamp environment are insufficient."
   ]
  },
  {
   "cell_type": "code",
   "execution_count": 8,
   "id": "82e11f2f",
   "metadata": {},
   "outputs": [],
   "source": [
    "def favorite_songs(playlist):\n",
    "    first = {'title': '', 'plays': 0}\n",
    "    second = {'title': '', 'plays': 0}\n",
    "\n",
    "\n",
    "    for song in playlist:\n",
    "        if song['plays'] >= first['plays']:\n",
    "            second = first\n",
    "            first = song\n",
    "        elif song['plays'] >= second['plays']:\n",
    "            second = song\n",
    "    \n",
    "    top_plays = [first['title'], second['title']]\n",
    "\n",
    "    return top_plays"
   ]
  },
  {
   "cell_type": "code",
   "execution_count": 9,
   "id": "b7aaa85b",
   "metadata": {},
   "outputs": [
    {
     "data": {
      "text/plain": [
       "['Sync or Swim', 'Earbud Blues']"
      ]
     },
     "execution_count": 9,
     "metadata": {},
     "output_type": "execute_result"
    }
   ],
   "source": [
    "favorite_songs([{\"title\": \"Sync or Swim\", \"plays\": 3}, {\"title\": \"Byte Me\", \"plays\": 1}, {\"title\": \"Earbud Blues\", \"plays\": 2} ])"
   ]
  },
  {
   "cell_type": "code",
   "execution_count": 4,
   "id": "95c01813",
   "metadata": {},
   "outputs": [
    {
     "name": "stdout",
     "output_type": "stream",
     "text": [
      "title\n"
     ]
    }
   ],
   "source": [
    "test_object = {'item1': 'title', 'item2': 10}\n",
    "\n",
    "print(test_object['item1'])"
   ]
  },
  {
   "cell_type": "code",
   "execution_count": null,
   "id": "b695bcf6",
   "metadata": {},
   "outputs": [],
   "source": []
  }
 ],
 "metadata": {
  "kernelspec": {
   "display_name": "Python 3",
   "language": "python",
   "name": "python3"
  },
  "language_info": {
   "codemirror_mode": {
    "name": "ipython",
    "version": 3
   },
   "file_extension": ".py",
   "mimetype": "text/x-python",
   "name": "python",
   "nbconvert_exporter": "python",
   "pygments_lexer": "ipython3",
   "version": "3.13.2"
  }
 },
 "nbformat": 4,
 "nbformat_minor": 5
}
