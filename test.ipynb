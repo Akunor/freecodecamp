{
 "cells": [
  {
   "cell_type": "markdown",
   "id": "67d1accc",
   "metadata": {},
   "source": [
    "# Testing Document\n",
    "For the purpose of debugging daily challenge or coursework code for when the limited error messages in the freeCodeCamp environment are insufficient."
   ]
  },
  {
   "cell_type": "code",
   "execution_count": 15,
   "id": "82e11f2f",
   "metadata": {},
   "outputs": [],
   "source": [
    "def navigate(commands):\n",
    "    history = []\n",
    "    current = -1\n",
    "\n",
    "    for command in commands:\n",
    "        if command.startswith('Visit'):\n",
    "            history.append(command[6:])\n",
    "            current += 1\n",
    "        elif command == 'Back' and current > 0:\n",
    "            current -= 1\n",
    "        elif command == 'Forward' and current < (len(history) - 1):\n",
    "            current += 1\n",
    "    \n",
    "    return history[current]"
   ]
  },
  {
   "cell_type": "code",
   "execution_count": 16,
   "id": "b7aaa85b",
   "metadata": {},
   "outputs": [
    {
     "data": {
      "text/plain": [
       "'About Us'"
      ]
     },
     "execution_count": 16,
     "metadata": {},
     "output_type": "execute_result"
    }
   ],
   "source": [
    "navigate([\"Visit About Us\", \"Back\", \"Forward\"])"
   ]
  },
  {
   "cell_type": "code",
   "execution_count": 7,
   "id": "95c01813",
   "metadata": {},
   "outputs": [
    {
     "name": "stdout",
     "output_type": "stream",
     "text": [
      "1:23:20\n"
     ]
    }
   ],
   "source": [
    "seconds = 5000\n",
    "\n",
    "seconds_remain = seconds % 60\n",
    "minutes = seconds // 60\n",
    "minutes_remain = minutes % 60\n",
    "hours = minutes // 60\n",
    "\n",
    "form_seconds = str(seconds_remain)\n",
    "if minutes_remain < 10 and hours != 0:\n",
    "    form_minutes = '0' + str(minutes_remain)\n",
    "else:\n",
    "    form_minutes = str(minutes_remain)\n",
    "\n",
    "if hours != 0:\n",
    "    form_hours = str(hours)\n",
    "\n",
    "if hours == 0:\n",
    "    formatted_time = form_minutes + ':' + form_seconds\n",
    "else:\n",
    "    formatted_time = form_hours + ':' + form_minutes + ':' + form_seconds\n",
    "\n",
    "print(formatted_time)"
   ]
  },
  {
   "cell_type": "code",
   "execution_count": null,
   "id": "b695bcf6",
   "metadata": {},
   "outputs": [],
   "source": []
  }
 ],
 "metadata": {
  "kernelspec": {
   "display_name": "Python 3",
   "language": "python",
   "name": "python3"
  },
  "language_info": {
   "codemirror_mode": {
    "name": "ipython",
    "version": 3
   },
   "file_extension": ".py",
   "mimetype": "text/x-python",
   "name": "python",
   "nbconvert_exporter": "python",
   "pygments_lexer": "ipython3",
   "version": "3.13.2"
  }
 },
 "nbformat": 4,
 "nbformat_minor": 5
}
