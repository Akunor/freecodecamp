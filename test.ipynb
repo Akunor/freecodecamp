{
 "cells": [
  {
   "cell_type": "markdown",
   "id": "67d1accc",
   "metadata": {},
   "source": [
    "# Testing Document\n",
    "For the purpose of debugging daily challenge or coursework code for when the limited error messages in the freeCodeCamp environment are insufficient."
   ]
  },
  {
   "cell_type": "code",
   "execution_count": 31,
   "id": "82e11f2f",
   "metadata": {},
   "outputs": [],
   "source": [
    "def extract_attributes(element):\n",
    "    opener = ''\n",
    "    final_attr = []\n",
    "    \n",
    "    for i, char in enumerate(element):\n",
    "        if char == '>' and element[i-1] != '/':\n",
    "            opener = element[1:i]\n",
    "            break\n",
    "        if char == '>' and element[i-1] == '/':\n",
    "            opener = element[1:i-1]\n",
    "            break\n",
    "\n",
    "    el_list = opener.split()\n",
    "    attributes = el_list[1:]\n",
    "\n",
    "    for el in attributes:\n",
    "        attr_name = ''\n",
    "        attr_value = ''\n",
    "\n",
    "        if '=' not in el:\n",
    "            el = el.strip(\"'\\\"\")\n",
    "            final_attr[-1] = f\"{final_attr[-1]} {el}\"\n",
    "        else:\n",
    "            for i, char in enumerate(el):\n",
    "                if char == '=':\n",
    "                    attr_name = el[:i]\n",
    "                    attr_value = el[i+1:].strip(\"'\\\"\")\n",
    "\n",
    "            final_attr.append(f\"{attr_name}, {attr_value}\")\n",
    "\n",
    "    return final_attr"
   ]
  },
  {
   "cell_type": "code",
   "execution_count": 32,
   "id": "b7aaa85b",
   "metadata": {},
   "outputs": [
    {
     "data": {
      "text/plain": [
       "['id, submit', 'class, btn btn-primary']"
      ]
     },
     "execution_count": 32,
     "metadata": {},
     "output_type": "execute_result"
    }
   ],
   "source": [
    "extract_attributes('<button id=\"submit\" class=\"btn btn-primary\">Submit</button>')"
   ]
  },
  {
   "cell_type": "code",
   "execution_count": 11,
   "id": "15428532",
   "metadata": {},
   "outputs": [
    {
     "name": "stdout",
     "output_type": "stream",
     "text": [
      "class=\"red\n"
     ]
    }
   ],
   "source": [
    "test = 'class=\"red\\''\n",
    "\n",
    "print(test.strip('\"\\''))"
   ]
  }
 ],
 "metadata": {
  "kernelspec": {
   "display_name": "Python 3",
   "language": "python",
   "name": "python3"
  },
  "language_info": {
   "codemirror_mode": {
    "name": "ipython",
    "version": 3
   },
   "file_extension": ".py",
   "mimetype": "text/x-python",
   "name": "python",
   "nbconvert_exporter": "python",
   "pygments_lexer": "ipython3",
   "version": "3.13.2"
  }
 },
 "nbformat": 4,
 "nbformat_minor": 5
}
