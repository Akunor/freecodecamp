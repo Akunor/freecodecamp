{
 "cells": [
  {
   "cell_type": "markdown",
   "id": "67d1accc",
   "metadata": {},
   "source": [
    "# Testing Document\n",
    "For the purpose of debugging daily challenge or coursework code for when the limited error messages in the freeCodeCamp environment are insufficient."
   ]
  },
  {
   "cell_type": "code",
   "execution_count": 52,
   "id": "82e11f2f",
   "metadata": {},
   "outputs": [],
   "source": [
    "def strip_tags(html):\n",
    "    tag = ''\n",
    "    piece_opening = 0\n",
    "    stripped_pieces = []\n",
    "    stripped = ''\n",
    "    depth = 0\n",
    "\n",
    "    for ind, char in enumerate(html):\n",
    "        if char == '<' and tag != 'open':\n",
    "            tag = 'open'\n",
    "            depth += 1\n",
    "        elif char == '>' and tag == 'open':\n",
    "            opening = ind+1\n",
    "        elif char == '<' and tag == 'open':\n",
    "            piece = html[opening:ind]\n",
    "            stripped_pieces.append(piece)\n",
    "            if html[ind+1] == '/':\n",
    "                if depth == 1:\n",
    "                    tag = 'closed'\n",
    "                    depth -= 1\n",
    "                    opening = ind+1\n",
    "                else:\n",
    "                    depth -= 1\n",
    "                    opening = ind+1\n",
    "            else:\n",
    "                depth += 1\n",
    "                \n",
    "\n",
    "    if stripped_pieces:\n",
    "        stripped = ''.join(stripped_pieces)\n",
    "    \n",
    "    return stripped"
   ]
  },
  {
   "cell_type": "code",
   "execution_count": 53,
   "id": "b7aaa85b",
   "metadata": {},
   "outputs": [
    {
     "data": {
      "text/plain": [
       "'Hello World!'"
      ]
     },
     "execution_count": 53,
     "metadata": {},
     "output_type": "execute_result"
    }
   ],
   "source": [
    "strip_tags('<p class=\"center\">Hello <b>World</b>!</p>')"
   ]
  }
 ],
 "metadata": {
  "kernelspec": {
   "display_name": "Python 3",
   "language": "python",
   "name": "python3"
  },
  "language_info": {
   "codemirror_mode": {
    "name": "ipython",
    "version": 3
   },
   "file_extension": ".py",
   "mimetype": "text/x-python",
   "name": "python",
   "nbconvert_exporter": "python",
   "pygments_lexer": "ipython3",
   "version": "3.13.2"
  }
 },
 "nbformat": 4,
 "nbformat_minor": 5
}
