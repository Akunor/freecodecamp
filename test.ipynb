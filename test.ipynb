{
 "cells": [
  {
   "cell_type": "markdown",
   "id": "67d1accc",
   "metadata": {},
   "source": [
    "# Testing Document\n",
    "For the purpose of debugging daily challenge or coursework code for when the limited error messages in the freeCodeCamp environment are insufficient."
   ]
  },
  {
   "cell_type": "code",
   "execution_count": 29,
   "id": "82e11f2f",
   "metadata": {},
   "outputs": [
    {
     "name": "stdout",
     "output_type": "stream",
     "text": [
      "The total surround value for 0, 1 is 12\n",
      "The total surround value for 1, 1 is 11\n",
      "The total surround value for 2, 1 is 13\n",
      "[1, 1]\n"
     ]
    }
   ],
   "source": [
    "def find_landing_spot(matrix):\n",
    "    best_score = 37\n",
    "    best = []\n",
    "    surrounds = 0\n",
    "\n",
    "    for ind, i in enumerate(matrix):\n",
    "        for jnd, j in enumerate (i):\n",
    "            if j == 0:\n",
    "                if not(ind == 0):\n",
    "                    surrounds += matrix[ind-1][jnd]\n",
    "                if not(ind == len(matrix)-1):\n",
    "                    surrounds += matrix[ind+1][jnd]\n",
    "                if not(jnd == 0):\n",
    "                    surrounds += matrix[ind][jnd-1]\n",
    "                if not(jnd == len(i)-1):\n",
    "                    surrounds += matrix[ind][jnd+1]\n",
    "                print(f'The total surround value for {ind}, {jnd} is {surrounds}')\n",
    "                if surrounds < best_score:\n",
    "                    best_score = surrounds\n",
    "                    best = [ind, jnd]\n",
    "                surrounds = 0\n",
    "\n",
    "    return best\n",
    "\n",
    "if __name__ == \"__main__\":\n",
    "    print( find_landing_spot([[9, 0, 3], [7, 0, 4], [8, 0, 5]]))"
   ]
  },
  {
   "cell_type": "code",
   "execution_count": 24,
   "id": "b7aaa85b",
   "metadata": {},
   "outputs": [
    {
     "name": "stdout",
     "output_type": "stream",
     "text": [
      "1\n",
      "2\n"
     ]
    },
    {
     "data": {
      "text/plain": [
       "[1, 1]"
      ]
     },
     "execution_count": 24,
     "metadata": {},
     "output_type": "execute_result"
    }
   ],
   "source": [
    "find_landing_spot([[1, 0], [2, 0]])"
   ]
  }
 ],
 "metadata": {
  "kernelspec": {
   "display_name": "Python 3",
   "language": "python",
   "name": "python3"
  },
  "language_info": {
   "codemirror_mode": {
    "name": "ipython",
    "version": 3
   },
   "file_extension": ".py",
   "mimetype": "text/x-python",
   "name": "python",
   "nbconvert_exporter": "python",
   "pygments_lexer": "ipython3",
   "version": "3.13.2"
  }
 },
 "nbformat": 4,
 "nbformat_minor": 5
}
