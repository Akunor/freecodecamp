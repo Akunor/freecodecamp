{
 "cells": [
  {
   "cell_type": "markdown",
   "id": "67d1accc",
   "metadata": {},
   "source": [
    "# Testing Document\n",
    "For the purpose of debugging daily challenge or coursework code for when the limited error messages in the freeCodeCamp environment are insufficient."
   ]
  },
  {
   "cell_type": "code",
   "execution_count": 19,
   "id": "82e11f2f",
   "metadata": {},
   "outputs": [],
   "source": [
    "def nth_prime(n):\n",
    "    count = 0\n",
    "    final = 2\n",
    "    i = 2\n",
    "\n",
    "    while count < n:\n",
    "        prime = True\n",
    "\n",
    "        for numb in range(2, i):\n",
    "            if numb != i and i % numb == 0:\n",
    "                prime = False\n",
    "                break\n",
    "\n",
    "        if prime == True:\n",
    "            final = i\n",
    "            count += 1\n",
    "\n",
    "        i += 1\n",
    "\n",
    "    return final"
   ]
  },
  {
   "cell_type": "code",
   "execution_count": 21,
   "id": "b7aaa85b",
   "metadata": {},
   "outputs": [
    {
     "data": {
      "text/plain": [
       "104729"
      ]
     },
     "execution_count": 21,
     "metadata": {},
     "output_type": "execute_result"
    }
   ],
   "source": [
    "nth_prime(10000)"
   ]
  },
  {
   "cell_type": "code",
   "execution_count": null,
   "id": "95c01813",
   "metadata": {},
   "outputs": [
    {
     "name": "stdout",
     "output_type": "stream",
     "text": [
      "66\n"
     ]
    }
   ],
   "source": [
    "import math\n",
    "\n",
    "print(math.ceil(65.0001))"
   ]
  },
  {
   "cell_type": "code",
   "execution_count": null,
   "id": "b695bcf6",
   "metadata": {},
   "outputs": [],
   "source": [
    "from datetime import datetime as dt\n",
    "import datetime\n",
    "\n",
    "def moon_phase(date_string):\n",
    "    current_date = dt.strptime(date_string, '%Y-%m-%d')\n",
    "    reference_date = dt(2000, 1, 5, 0,0,0)\n",
    "\n",
    "    diff = (current_date - reference_date) // datetime.timedelta(days=1)\n",
    "\n",
    "    cycle_day = diff % 28\n",
    "\n",
    "    if cycle_day <= 7:\n",
    "        phase = 'New'\n",
    "    elif cycle_day <= 14:\n",
    "        phase = 'Waxing'\n",
    "    elif cycle_day <=21:\n",
    "        phase = 'Full'\n",
    "    elif cycle_day <= 27 or cycle_day == 0:\n",
    "        phase = 'Waning'\n",
    "    return phase"
   ]
  },
  {
   "cell_type": "code",
   "execution_count": 18,
   "id": "d5bd8f81",
   "metadata": {},
   "outputs": [
    {
     "data": {
      "text/plain": [
       "('New', 1)"
      ]
     },
     "execution_count": 18,
     "metadata": {},
     "output_type": "execute_result"
    }
   ],
   "source": [
    "moon_phase(\"2000-01-06\")"
   ]
  }
 ],
 "metadata": {
  "kernelspec": {
   "display_name": "Python 3",
   "language": "python",
   "name": "python3"
  },
  "language_info": {
   "codemirror_mode": {
    "name": "ipython",
    "version": 3
   },
   "file_extension": ".py",
   "mimetype": "text/x-python",
   "name": "python",
   "nbconvert_exporter": "python",
   "pygments_lexer": "ipython3",
   "version": "3.13.2"
  }
 },
 "nbformat": 4,
 "nbformat_minor": 5
}
